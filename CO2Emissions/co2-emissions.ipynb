{
 "cells": [
  {
   "cell_type": "markdown",
   "metadata": {
    "papermill": {
     "duration": 0.008411,
     "end_time": "2020-10-23T16:39:10.851398",
     "exception": false,
     "start_time": "2020-10-23T16:39:10.842987",
     "status": "completed"
    },
    "tags": []
   },
   "source": [
    "<center><h1> CO2 Emissions </h1></center>\n",
    "<img src=\"https://ca-times.brightspotcdn.com/dims4/default/b4e3aec/2147483647/strip/true/crop/2048x1152+0+0/resize/840x473!/quality/90/?url=https%3A%2F%2Fcalifornia-times-brightspot.s3.amazonaws.com%2F62%2Fe7%2Fb3e1dc06dd9002bc3f3970c44f6c%2Fla-1544035928-vl8yrk0o3v-snap-image\" width=\"500px\">"
   ]
  },
  {
   "cell_type": "markdown",
   "metadata": {
    "papermill": {
     "duration": 0.007026,
     "end_time": "2020-10-23T16:39:10.866020",
     "exception": false,
     "start_time": "2020-10-23T16:39:10.858994",
     "status": "completed"
    },
    "tags": []
   },
   "source": [
    "# 1. Importing libraries and data"
   ]
  },
  {
   "cell_type": "code",
   "execution_count": 1,
   "metadata": {
    "_cell_guid": "b1076dfc-b9ad-4769-8c92-a6c4dae69d19",
    "_uuid": "8f2839f25d086af736a60e9eeb907d3b93b6e0e5",
    "execution": {
     "iopub.execute_input": "2020-10-23T16:39:10.886997Z",
     "iopub.status.busy": "2020-10-23T16:39:10.886325Z",
     "iopub.status.idle": "2020-10-23T16:39:12.001734Z",
     "shell.execute_reply": "2020-10-23T16:39:12.000904Z"
    },
    "papermill": {
     "duration": 1.128368,
     "end_time": "2020-10-23T16:39:12.001878",
     "exception": false,
     "start_time": "2020-10-23T16:39:10.873510",
     "status": "completed"
    },
    "tags": []
   },
   "outputs": [],
   "source": [
    "# This Python 3 environment comes with many helpful analytics libraries installed\n",
    "# It is defined by the kaggle/python Docker image: https://github.com/kaggle/docker-python\n",
    "# For example, here's several helpful packages to load\n",
    "\n",
    "import numpy as np # linear algebra\n",
    "import pandas as pd # data processing, CSV file I/O (e.g. pd.read_csv)\n",
    "import matplotlib.pyplot as plt\n",
    "import seaborn as sns"
   ]
  },
  {
   "cell_type": "code",
   "execution_count": 2,
   "metadata": {
    "_cell_guid": "79c7e3d0-c299-4dcb-8224-4455121ee9b0",
    "_uuid": "d629ff2d2480ee46fbb7e2d37f6b5fab8052498a",
    "execution": {
     "iopub.execute_input": "2020-10-23T16:39:12.029907Z",
     "iopub.status.busy": "2020-10-23T16:39:12.028953Z",
     "iopub.status.idle": "2020-10-23T16:39:12.072712Z",
     "shell.execute_reply": "2020-10-23T16:39:12.073224Z"
    },
    "papermill": {
     "duration": 0.062268,
     "end_time": "2020-10-23T16:39:12.073387",
     "exception": false,
     "start_time": "2020-10-23T16:39:12.011119",
     "status": "completed"
    },
    "tags": []
   },
   "outputs": [
    {
     "data": {
      "text/html": [
       "<div>\n",
       "<style scoped>\n",
       "    .dataframe tbody tr th:only-of-type {\n",
       "        vertical-align: middle;\n",
       "    }\n",
       "\n",
       "    .dataframe tbody tr th {\n",
       "        vertical-align: top;\n",
       "    }\n",
       "\n",
       "    .dataframe thead th {\n",
       "        text-align: right;\n",
       "    }\n",
       "</style>\n",
       "<table border=\"1\" class=\"dataframe\">\n",
       "  <thead>\n",
       "    <tr style=\"text-align: right;\">\n",
       "      <th></th>\n",
       "      <th>Entity</th>\n",
       "      <th>Code</th>\n",
       "      <th>Year</th>\n",
       "      <th>Annual CO₂ emissions (tonnes )</th>\n",
       "    </tr>\n",
       "  </thead>\n",
       "  <tbody>\n",
       "    <tr>\n",
       "      <th>0</th>\n",
       "      <td>Afghanistan</td>\n",
       "      <td>AFG</td>\n",
       "      <td>1949</td>\n",
       "      <td>14656.0</td>\n",
       "    </tr>\n",
       "    <tr>\n",
       "      <th>1</th>\n",
       "      <td>Afghanistan</td>\n",
       "      <td>AFG</td>\n",
       "      <td>1950</td>\n",
       "      <td>84272.0</td>\n",
       "    </tr>\n",
       "    <tr>\n",
       "      <th>2</th>\n",
       "      <td>Afghanistan</td>\n",
       "      <td>AFG</td>\n",
       "      <td>1951</td>\n",
       "      <td>91600.0</td>\n",
       "    </tr>\n",
       "    <tr>\n",
       "      <th>3</th>\n",
       "      <td>Afghanistan</td>\n",
       "      <td>AFG</td>\n",
       "      <td>1952</td>\n",
       "      <td>91600.0</td>\n",
       "    </tr>\n",
       "    <tr>\n",
       "      <th>4</th>\n",
       "      <td>Afghanistan</td>\n",
       "      <td>AFG</td>\n",
       "      <td>1953</td>\n",
       "      <td>106256.0</td>\n",
       "    </tr>\n",
       "  </tbody>\n",
       "</table>\n",
       "</div>"
      ],
      "text/plain": [
       "        Entity Code  Year  Annual CO₂ emissions (tonnes )\n",
       "0  Afghanistan  AFG  1949                         14656.0\n",
       "1  Afghanistan  AFG  1950                         84272.0\n",
       "2  Afghanistan  AFG  1951                         91600.0\n",
       "3  Afghanistan  AFG  1952                         91600.0\n",
       "4  Afghanistan  AFG  1953                        106256.0"
      ]
     },
     "execution_count": 2,
     "metadata": {},
     "output_type": "execute_result"
    }
   ],
   "source": [
    "path ='/kaggle/input/co2-ghg-emissionsdata/co2_emission.csv'\n",
    "data_emissions = pd.read_csv(path)\n",
    "data_emissions.head()"
   ]
  },
  {
   "cell_type": "markdown",
   "metadata": {
    "papermill": {
     "duration": 0.008441,
     "end_time": "2020-10-23T16:39:12.090620",
     "exception": false,
     "start_time": "2020-10-23T16:39:12.082179",
     "status": "completed"
    },
    "tags": []
   },
   "source": [
    "# 2. Data wrangling"
   ]
  },
  {
   "cell_type": "code",
   "execution_count": 3,
   "metadata": {
    "execution": {
     "iopub.execute_input": "2020-10-23T16:39:12.117717Z",
     "iopub.status.busy": "2020-10-23T16:39:12.116800Z",
     "iopub.status.idle": "2020-10-23T16:39:12.140834Z",
     "shell.execute_reply": "2020-10-23T16:39:12.140124Z"
    },
    "papermill": {
     "duration": 0.042006,
     "end_time": "2020-10-23T16:39:12.140966",
     "exception": false,
     "start_time": "2020-10-23T16:39:12.098960",
     "status": "completed"
    },
    "tags": []
   },
   "outputs": [
    {
     "name": "stdout",
     "output_type": "stream",
     "text": [
      "<class 'pandas.core.frame.DataFrame'>\n",
      "RangeIndex: 20853 entries, 0 to 20852\n",
      "Data columns (total 4 columns):\n",
      " #   Column                          Non-Null Count  Dtype  \n",
      "---  ------                          --------------  -----  \n",
      " 0   Entity                          20853 non-null  object \n",
      " 1   Code                            18646 non-null  object \n",
      " 2   Year                            20853 non-null  int64  \n",
      " 3   Annual CO₂ emissions (tonnes )  20853 non-null  float64\n",
      "dtypes: float64(1), int64(1), object(2)\n",
      "memory usage: 651.8+ KB\n"
     ]
    },
    {
     "data": {
      "text/plain": [
       "Entity                               0\n",
       "Code                              2207\n",
       "Year                                 0\n",
       "Annual CO₂ emissions (tonnes )       0\n",
       "dtype: int64"
      ]
     },
     "execution_count": 3,
     "metadata": {},
     "output_type": "execute_result"
    }
   ],
   "source": [
    "data_emissions.info()\n",
    "\n",
    "data_emissions.isnull().sum()\n"
   ]
  },
  {
   "cell_type": "code",
   "execution_count": 4,
   "metadata": {
    "execution": {
     "iopub.execute_input": "2020-10-23T16:39:12.170036Z",
     "iopub.status.busy": "2020-10-23T16:39:12.166027Z",
     "iopub.status.idle": "2020-10-23T16:39:12.173947Z",
     "shell.execute_reply": "2020-10-23T16:39:12.173282Z"
    },
    "papermill": {
     "duration": 0.023874,
     "end_time": "2020-10-23T16:39:12.174059",
     "exception": false,
     "start_time": "2020-10-23T16:39:12.150185",
     "status": "completed"
    },
    "tags": []
   },
   "outputs": [],
   "source": [
    "data_emissions.drop('Code', axis = 1, inplace=True)"
   ]
  },
  {
   "cell_type": "code",
   "execution_count": 5,
   "metadata": {
    "execution": {
     "iopub.execute_input": "2020-10-23T16:39:12.201386Z",
     "iopub.status.busy": "2020-10-23T16:39:12.200612Z",
     "iopub.status.idle": "2020-10-23T16:39:12.203871Z",
     "shell.execute_reply": "2020-10-23T16:39:12.203399Z"
    },
    "papermill": {
     "duration": 0.019264,
     "end_time": "2020-10-23T16:39:12.203994",
     "exception": false,
     "start_time": "2020-10-23T16:39:12.184730",
     "status": "completed"
    },
    "tags": []
   },
   "outputs": [],
   "source": [
    "data_emissions.rename(columns={'Annual CO₂ emissions (tonnes )':'CO2'}, inplace=True)"
   ]
  },
  {
   "cell_type": "code",
   "execution_count": 6,
   "metadata": {
    "execution": {
     "iopub.execute_input": "2020-10-23T16:39:12.234184Z",
     "iopub.status.busy": "2020-10-23T16:39:12.233101Z",
     "iopub.status.idle": "2020-10-23T16:39:12.238076Z",
     "shell.execute_reply": "2020-10-23T16:39:12.237391Z"
    },
    "papermill": {
     "duration": 0.024963,
     "end_time": "2020-10-23T16:39:12.238206",
     "exception": false,
     "start_time": "2020-10-23T16:39:12.213243",
     "status": "completed"
    },
    "tags": []
   },
   "outputs": [
    {
     "data": {
      "text/html": [
       "<div>\n",
       "<style scoped>\n",
       "    .dataframe tbody tr th:only-of-type {\n",
       "        vertical-align: middle;\n",
       "    }\n",
       "\n",
       "    .dataframe tbody tr th {\n",
       "        vertical-align: top;\n",
       "    }\n",
       "\n",
       "    .dataframe thead th {\n",
       "        text-align: right;\n",
       "    }\n",
       "</style>\n",
       "<table border=\"1\" class=\"dataframe\">\n",
       "  <thead>\n",
       "    <tr style=\"text-align: right;\">\n",
       "      <th></th>\n",
       "      <th>Entity</th>\n",
       "      <th>Year</th>\n",
       "      <th>CO2</th>\n",
       "    </tr>\n",
       "  </thead>\n",
       "  <tbody>\n",
       "    <tr>\n",
       "      <th>0</th>\n",
       "      <td>Afghanistan</td>\n",
       "      <td>1949</td>\n",
       "      <td>14656.0</td>\n",
       "    </tr>\n",
       "    <tr>\n",
       "      <th>1</th>\n",
       "      <td>Afghanistan</td>\n",
       "      <td>1950</td>\n",
       "      <td>84272.0</td>\n",
       "    </tr>\n",
       "    <tr>\n",
       "      <th>2</th>\n",
       "      <td>Afghanistan</td>\n",
       "      <td>1951</td>\n",
       "      <td>91600.0</td>\n",
       "    </tr>\n",
       "    <tr>\n",
       "      <th>3</th>\n",
       "      <td>Afghanistan</td>\n",
       "      <td>1952</td>\n",
       "      <td>91600.0</td>\n",
       "    </tr>\n",
       "    <tr>\n",
       "      <th>4</th>\n",
       "      <td>Afghanistan</td>\n",
       "      <td>1953</td>\n",
       "      <td>106256.0</td>\n",
       "    </tr>\n",
       "  </tbody>\n",
       "</table>\n",
       "</div>"
      ],
      "text/plain": [
       "        Entity  Year       CO2\n",
       "0  Afghanistan  1949   14656.0\n",
       "1  Afghanistan  1950   84272.0\n",
       "2  Afghanistan  1951   91600.0\n",
       "3  Afghanistan  1952   91600.0\n",
       "4  Afghanistan  1953  106256.0"
      ]
     },
     "execution_count": 6,
     "metadata": {},
     "output_type": "execute_result"
    }
   ],
   "source": [
    "data_emissions.head()"
   ]
  },
  {
   "cell_type": "markdown",
   "metadata": {
    "papermill": {
     "duration": 0.009336,
     "end_time": "2020-10-23T16:39:12.258674",
     "exception": false,
     "start_time": "2020-10-23T16:39:12.249338",
     "status": "completed"
    },
    "tags": []
   },
   "source": [
    "# 3. Data visualization"
   ]
  },
  {
   "cell_type": "code",
   "execution_count": 7,
   "metadata": {
    "execution": {
     "iopub.execute_input": "2020-10-23T16:39:12.287006Z",
     "iopub.status.busy": "2020-10-23T16:39:12.285991Z",
     "iopub.status.idle": "2020-10-23T16:39:12.289395Z",
     "shell.execute_reply": "2020-10-23T16:39:12.288756Z"
    },
    "papermill": {
     "duration": 0.021109,
     "end_time": "2020-10-23T16:39:12.289515",
     "exception": false,
     "start_time": "2020-10-23T16:39:12.268406",
     "status": "completed"
    },
    "tags": []
   },
   "outputs": [],
   "source": [
    "\n",
    "def visualise_country(country):\n",
    "    \n",
    "    '''Creating a seperate dataframe'''\n",
    "    data_emissions_vis = data_emissions[data_emissions['Entity'] == country]\n",
    "    tot_yr = data_emissions_vis.Year.max() - data_emissions_vis.Year.min()\n",
    "    tot_em = data_emissions_vis.CO2.sum()\n",
    "    print(f\"Total Co2 Emissions by {country} in {tot_yr} years: {'{:.2f}'.format(tot_em)} tonnes\")\n",
    "    \n",
    "    '''Plot'''\n",
    "    fig = sns.lineplot(data=data_emissions_vis, x=\"Year\", y='CO2')\n",
    "    plt.title('Co2 Emissions by ' + country + ' in '+str(tot_yr)+' years \\n', fontsize=20)\n",
    "    plt.ylabel('Co2 Emissions')\n",
    "    "
   ]
  },
  {
   "cell_type": "code",
   "execution_count": 8,
   "metadata": {
    "execution": {
     "iopub.execute_input": "2020-10-23T16:39:12.320943Z",
     "iopub.status.busy": "2020-10-23T16:39:12.318797Z",
     "iopub.status.idle": "2020-10-23T16:39:12.580707Z",
     "shell.execute_reply": "2020-10-23T16:39:12.580039Z"
    },
    "papermill": {
     "duration": 0.281343,
     "end_time": "2020-10-23T16:39:12.580829",
     "exception": false,
     "start_time": "2020-10-23T16:39:12.299486",
     "status": "completed"
    },
    "tags": []
   },
   "outputs": [
    {
     "name": "stdout",
     "output_type": "stream",
     "text": [
      "Total Co2 Emissions by Spain in 187 years: 14136085451.68 tonnes\n"
     ]
    },
    {
     "data": {
      "image/png": "[encoded data removed]",
      "text/plain": [
       "<Figure size 432x288 with 1 Axes>"
      ]
     },
     "metadata": {
      "needs_background": "light"
     },
     "output_type": "display_data"
    }
   ],
   "source": [
    "visualise_country('Spain')"
   ]
  },
  {
   "cell_type": "code",
   "execution_count": 9,
   "metadata": {
    "execution": {
     "iopub.execute_input": "2020-10-23T16:39:12.611472Z",
     "iopub.status.busy": "2020-10-23T16:39:12.610761Z",
     "iopub.status.idle": "2020-10-23T16:39:12.620660Z",
     "shell.execute_reply": "2020-10-23T16:39:12.620039Z"
    },
    "papermill": {
     "duration": 0.028612,
     "end_time": "2020-10-23T16:39:12.620775",
     "exception": false,
     "start_time": "2020-10-23T16:39:12.592163",
     "status": "completed"
    },
    "tags": []
   },
   "outputs": [
    {
     "data": {
      "text/plain": [
       "Entity\n",
       "World                       1.575244e+12\n",
       "United States               3.993783e+11\n",
       "EU-28                       3.528583e+11\n",
       "China                       2.001365e+11\n",
       "Asia and Pacific (other)    1.780573e+11\n",
       "                                ...     \n",
       "Niue                        2.715786e+05\n",
       "Tuvalu                      2.569226e+05\n",
       "Antarctic Fisheries         1.538880e+05\n",
       "Kyrgysztan                  0.000000e+00\n",
       "Statistical differences    -7.713299e+09\n",
       "Name: CO2, Length: 233, dtype: float64"
      ]
     },
     "execution_count": 9,
     "metadata": {},
     "output_type": "execute_result"
    }
   ],
   "source": [
    "total_emissions = data_emissions.groupby('Entity')['CO2'].sum()\n",
    "total_emissions.sort_values(ascending=False)"
   ]
  }
 ],
 "metadata": {
  "kernelspec": {
   "display_name": "Python 3",
   "language": "python",
   "name": "python3"
  },
  "language_info": {
   "codemirror_mode": {
    "name": "ipython",
    "version": 3
   },
   "file_extension": ".py",
   "mimetype": "text/x-python",
   "name": "python",
   "nbconvert_exporter": "python",
   "pygments_lexer": "ipython3",
   "version": "3.7.6"
  },
  "papermill": {
   "duration": 6.612282,
   "end_time": "2020-10-23T16:39:12.740340",
   "environment_variables": {},
   "exception": null,
   "input_path": "__notebook__.ipynb",
   "output_path": "__notebook__.ipynb",
   "parameters": {},
   "start_time": "2020-10-23T16:39:06.128058",
   "version": "2.1.0"
  }
 },
 "nbformat": 4,
 "nbformat_minor": 4
}
